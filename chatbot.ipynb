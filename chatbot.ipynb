{
 "cells": [
  {
   "cell_type": "code",
   "execution_count": 183,
   "id": "0dedcff1",
   "metadata": {},
   "outputs": [],
   "source": [
    "from langgraph.graph import StateGraph, START, END\n",
    "from typing import TypedDict, Annotated\n",
    "from pydantic import BaseModel\n",
    "from langchain_core.messages import BaseMessage, HumanMessage\n",
    "from langchain_groq import ChatGroq\n",
    "from langgraph.graph.message import add_messages\n",
    "from langgraph.checkpoint.memory import MemorySaver"
   ]
  },
  {
   "cell_type": "code",
   "execution_count": 184,
   "id": "5c866e40",
   "metadata": {},
   "outputs": [
    {
     "data": {
      "text/plain": [
       "True"
      ]
     },
     "execution_count": 184,
     "metadata": {},
     "output_type": "execute_result"
    }
   ],
   "source": [
    "from dotenv import load_dotenv\n",
    "import os\n",
    "load_dotenv()"
   ]
  },
  {
   "cell_type": "code",
   "execution_count": 185,
   "id": "bd4e8165",
   "metadata": {},
   "outputs": [],
   "source": [
    "groq_api_key = os.getenv(\"GROQ_API_KEY\")\n",
    "if groq_api_key is not None:\n",
    "\tos.environ[\"GROQ_API_KEY\"] = groq_api_key\n",
    "else:\n",
    "\traise ValueError(\"GROQ_API_KEY environment variable is not set.\")"
   ]
  },
  {
   "cell_type": "code",
   "execution_count": 186,
   "id": "d1da2629",
   "metadata": {},
   "outputs": [],
   "source": [
    "llm = ChatGroq(model=\"gemma2-9b-it\", temperature=0.1, max_tokens=2000, stop_sequences=[])"
   ]
  },
  {
   "cell_type": "code",
   "execution_count": 187,
   "id": "b3e94424",
   "metadata": {},
   "outputs": [],
   "source": [
    "class ChatState(TypedDict):\n",
    "    messages:Annotated[list[BaseMessage],add_messages]"
   ]
  },
  {
   "cell_type": "code",
   "execution_count": 188,
   "id": "20b70752",
   "metadata": {},
   "outputs": [],
   "source": [
    "def chat_node(state:ChatState):\n",
    "    messages=state['messages']\n",
    "    response=llm.invoke(messages)\n",
    "    return {'messages':[response]}"
   ]
  },
  {
   "cell_type": "code",
   "execution_count": 189,
   "id": "8861fb43",
   "metadata": {},
   "outputs": [],
   "source": [
    "checkpointer=MemorySaver()\n",
    "graph=StateGraph(ChatState)"
   ]
  },
  {
   "cell_type": "code",
   "execution_count": 190,
   "id": "15dd1e7d",
   "metadata": {},
   "outputs": [
    {
     "data": {
      "text/plain": [
       "<langgraph.graph.state.StateGraph at 0x1f92f457650>"
      ]
     },
     "execution_count": 190,
     "metadata": {},
     "output_type": "execute_result"
    }
   ],
   "source": [
    "graph.add_node('chat_node',chat_node)\n",
    "graph.add_edge(START,'chat_node')\n",
    "graph.add_edge('chat_node',END)"
   ]
  },
  {
   "cell_type": "code",
   "execution_count": 191,
   "id": "eaad55f4",
   "metadata": {},
   "outputs": [],
   "source": [
    "chatbot=graph.compile(checkpointer=checkpointer)"
   ]
  },
  {
   "cell_type": "code",
   "execution_count": 192,
   "id": "192d16b7",
   "metadata": {},
   "outputs": [
    {
     "data": {
      "image/png": "[encoded data removed]",
      "text/plain": [
       "<langgraph.graph.state.CompiledStateGraph object at 0x000001F92DDB86D0>"
      ]
     },
     "execution_count": 192,
     "metadata": {},
     "output_type": "execute_result"
    }
   ],
   "source": [
    "chatbot"
   ]
  },
  {
   "cell_type": "code",
   "execution_count": null,
   "id": "0ff3877a",
   "metadata": {},
   "outputs": [
    {
     "data": {
      "text/plain": [
       "{'messages': [HumanMessage(content='What is the capital of india', id='19bcf01f-b9e6-40d7-a973-1eae5fd503be'),\n",
       "  AIMessage(content='The capital of India is **New Delhi**. \\n', response_metadata={'token_usage': {'completion_tokens': 13, 'prompt_tokens': 15, 'total_tokens': 28, 'completion_time': 0.023636364, 'prompt_time': 0.001268169, 'queue_time': 0.252240481, 'total_time': 0.024904533}, 'model_name': 'gemma2-9b-it', 'system_fingerprint': 'fp_10c08bf97d', 'finish_reason': 'stop', 'logprobs': None}, id='run-20920724-cce9-47ae-b34e-feedd8452871-0', usage_metadata={'input_tokens': 15, 'output_tokens': 13, 'total_tokens': 28})]}"
      ]
     },
     "execution_count": 194,
     "metadata": {},
     "output_type": "execute_result"
    }
   ],
   "source": [
    "initial_state = {\n",
    "    'messages': [HumanMessage(content=\"What is the capital of india\")]\n",
    "}\n",
    "thread_id='1'\n",
    "config={'configurable':{'thread_id':thread_id}}\n",
    "chatbot.invoke(initial_state,config=config) # type:ignore"
   ]
  },
  {
   "cell_type": "code",
   "execution_count": 195,
   "id": "d8816307",
   "metadata": {},
   "outputs": [
    {
     "name": "stdout",
     "output_type": "stream",
     "text": [
      "User: hi\n",
      "Bot: Hello! 👋 \n",
      "\n",
      "How can I help you today? 😊  \n",
      "\n",
      "User: myself gaurav\n",
      "Bot: Nice to meet you, Gaurav! 👋\n",
      "\n",
      "What can I do for you?  \n",
      "\n",
      "User: whats my name\n",
      "Bot: Your name is Gaurav, as you just told me! 😊  \n",
      "\n",
      "Is there anything else I can help you with?\n",
      "\n",
      "User: ok\n",
      "Bot: Okay!  \n",
      "\n",
      "Just let me know if you have any other questions or if there's anything else I can do.  I'm here to help. 😊\n",
      "\n",
      "User: factorial of 100\n",
      "Bot: That's a big one!  \n",
      "\n",
      "The factorial of 100 (written as 100!) is a very large number.  It's calculated as:\n",
      "\n",
      "100 * 99 * 98 * ... * 2 * 1\n",
      "\n",
      "It would take a while to calculate that by hand!  \n",
      "\n",
      "You can use a calculator or a computer program to find the exact value.  \n",
      "\n",
      "Let me know if you'd like me to try and find it for you using a program. 😊 \n",
      "\n",
      "\n",
      "User: what is its value\n",
      "Bot: You're right, it's a massive number! \n",
      "\n",
      "The factorial of 100 (100!) is:\n",
      "\n",
      "9,332,621,544,394,415,262,500 \n",
      "\n",
      "It has 25 digits! 🤯 \n",
      "\n",
      "\n",
      "\n",
      "User: write\n",
      "Bot: Please give me something to write!  \n",
      "\n",
      "For example, you could ask me to:\n",
      "\n",
      "* **Write a story:**  \"Write a short story about a robot who learns to feel emotions.\"\n",
      "* **Write a poem:** \"Write a poem about the beauty of nature.\"\n",
      "* **Write a song:** \"Write a song about love and loss.\"\n",
      "* **Write an email:** \"Write an email to my friend inviting them to dinner.\"\n",
      "* **Write code:** \"Write a Python function to calculate the factorial of a number.\"\n",
      "\n",
      "I'm ready for your creative challenge! 😊  \n",
      "\n",
      "\n",
      "User: no write value of 100 factorial\n",
      "Bot: 9,332,621,544,394,415,262,500 \n",
      "\n",
      "\n",
      "\n",
      "Let me know if you'd like me to write anything else!\n",
      "\n",
      "User: no bye\n",
      "Bot: Bye Gaurav!  \n",
      "\n",
      "It was nice chatting with you. 😊  Have a great day!\n",
      "User: bye\n"
     ]
    }
   ],
   "source": [
    "while True:\n",
    "    user_message=input(\"Type here: \")\n",
    "    print('User:',user_message)\n",
    "    if user_message.strip().lower() in ['exit','quit','bye']:\n",
    "        break\n",
    "    response=chatbot.invoke({'messages':[HumanMessage(content=user_message)]},config=config)\n",
    "    print('Bot:',response['messages'][-1].content)"
   ]
  },
  {
   "cell_type": "code",
   "execution_count": null,
   "id": "ac40e10b",
   "metadata": {},
   "outputs": [],
   "source": []
  }
 ],
 "metadata": {
  "kernelspec": {
   "display_name": "base",
   "language": "python",
   "name": "python3"
  },
  "language_info": {
   "codemirror_mode": {
    "name": "ipython",
    "version": 3
   },
   "file_extension": ".py",
   "mimetype": "text/x-python",
   "name": "python",
   "nbconvert_exporter": "python",
   "pygments_lexer": "ipython3",
   "version": "3.11.5"
  }
 },
 "nbformat": 4,
 "nbformat_minor": 5
}
